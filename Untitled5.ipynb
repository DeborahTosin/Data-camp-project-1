{
  "nbformat": 4,
  "nbformat_minor": 0,
  "metadata": {
    "colab": {
      "provenance": [],
      "toc_visible": true,
      "mount_file_id": "15cBSNp6kW1AKTNXg-B2Fc_clY3Ugolsr",
      "authorship_tag": "ABX9TyOVUO/QF5DuFcxdrkSw2ieM",
      "include_colab_link": true
    },
    "kernelspec": {
      "name": "python3",
      "display_name": "Python 3"
    },
    "language_info": {
      "name": "python"
    }
  },
  "cells": [
    {
      "cell_type": "markdown",
      "metadata": {
        "id": "view-in-github",
        "colab_type": "text"
      },
      "source": [
        "<a href=\"https://colab.research.google.com/github/DeborahTosin/Data-camp-project-1/blob/master/Untitled5.ipynb\" target=\"_parent\"><img src=\"https://colab.research.google.com/assets/colab-badge.svg\" alt=\"Open In Colab\"/></a>"
      ]
    },
    {
      "cell_type": "code",
      "source": [
        "import pandas as pd\n",
        "from sklearn.model_selection import train_test_split\n",
        "from sklearn.tree import DecisionTreeClassifier\n",
        "from sklearn.metrics import accuracy_score\n",
        "\n",
        "\n",
        "data = pd.read_csv(\"/content/drive/MyDrive/music.csv\")\n",
        "#print(data)#load and inspect data\n",
        "data.info()\n",
        "data.drop_duplicates(inplace=True) #remove duplicates\n",
        "data.isna().sum() #check for missing values\n",
        "\n",
        "# Prepare the Data for Modeling (splitting features and labels)\n",
        "X = data.drop(columns=['genre'])  # Features (all columns except 'genre')\n",
        "y = data['genre']  # Labels ('genre' column)\n",
        "\n",
        "# Split data into training and testing sets\n",
        "X_train, X_test, y_train, y_test = train_test_split(X, y, test_size=0.2, random_state=42) # 80% training, 20% testing   #Prepare the Data for Modeling (splitting features and labels)\n",
        "\n",
        "#Build and Train the Model\n",
        "model = DecisionTreeClassifier()\n",
        "model.fit(X_train, y_train)\n",
        "\n",
        "#Make Predictions\n",
        "predictions = model.predict(X_test)\n",
        "print(\"Prediction: \", predictions)\n",
        "\n",
        "#Evaluate Model Accuracy\n",
        "score = accuracy_score(y_test, predictions)\n",
        "print(\"Accuracy: \", score)"
      ],
      "metadata": {
        "colab": {
          "base_uri": "https://localhost:8080/"
        },
        "id": "WtSjj-jXSlJM",
        "outputId": "c12f3824-17e5-4569-ebff-c12ec293fbb3"
      },
      "execution_count": 4,
      "outputs": [
        {
          "output_type": "stream",
          "name": "stdout",
          "text": [
            "<class 'pandas.core.frame.DataFrame'>\n",
            "RangeIndex: 18 entries, 0 to 17\n",
            "Data columns (total 3 columns):\n",
            " #   Column  Non-Null Count  Dtype \n",
            "---  ------  --------------  ----- \n",
            " 0   age     18 non-null     int64 \n",
            " 1   gender  18 non-null     int64 \n",
            " 2   genre   18 non-null     object\n",
            "dtypes: int64(2), object(1)\n",
            "memory usage: 560.0+ bytes\n",
            "Prediction:  ['HipHop' 'HipHop' 'Classical' 'Jazz']\n",
            "Accuracy:  1.0\n"
          ]
        }
      ]
    },
    {
      "cell_type": "code",
      "source": [],
      "metadata": {
        "id": "RnzCRKLyR3Yu"
      },
      "execution_count": null,
      "outputs": []
    }
  ]
}